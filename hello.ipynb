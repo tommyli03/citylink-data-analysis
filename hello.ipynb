{
 "cells": [
  {
   "cell_type": "code",
   "execution_count": 21,
   "metadata": {},
   "outputs": [],
   "source": [
    "import pandas as pd\n",
    "import numpy as np\n",
    "from datetime import datetime\n",
    "data = pd.read_csv('bus.csv')"
   ]
  },
  {
   "cell_type": "code",
   "execution_count": null,
   "metadata": {},
   "outputs": [],
   "source": [
    "def format_time(time):\n",
    "    return "
   ]
  },
  {
   "cell_type": "code",
   "execution_count": 27,
   "metadata": {},
   "outputs": [
    {
     "name": "stdout",
     "output_type": "stream",
     "text": [
      "9588\n"
     ]
    },
    {
     "ename": "NameError",
     "evalue": "name 'observed_visit_time' is not defined",
     "output_type": "error",
     "traceback": [
      "\u001b[0;31m---------------------------------------------------------------------------\u001b[0m",
      "\u001b[0;31mNameError\u001b[0m                                 Traceback (most recent call last)",
      "Cell \u001b[0;32mIn[27], line 7\u001b[0m\n\u001b[1;32m      4\u001b[0m \u001b[38;5;28mprint\u001b[39m(missing)\n\u001b[1;32m      5\u001b[0m d\u001b[38;5;241m.\u001b[39mobserved_visit_time\n\u001b[0;32m----> 7\u001b[0m dt1 \u001b[38;5;241m=\u001b[39m datetime\u001b[38;5;241m.\u001b[39mfromisoformat(\u001b[43mobserved_visit_time\u001b[49m[:\u001b[38;5;241m-\u001b[39m\u001b[38;5;241m1\u001b[39m])\n",
      "\u001b[0;31mNameError\u001b[0m: name 'observed_visit_time' is not defined"
     ]
    }
   ],
   "source": [
    "missing = data.id.count() - data.observed_visit_time.count() #missing data\n",
    "d = data.dropna(subset = [\"observed_visit_time\"]) #dropping rows where observed_visit_time data is missing\n",
    "\n",
    "print(missing)\n",
    "d.observed_visit_time\n",
    "\n",
    "dt1 = datetime.fromisoformat(observed_visit_time[:-1])"
   ]
  }
 ],
 "metadata": {
  "kernelspec": {
   "display_name": "Python 3.10.11 ('myenv')",
   "language": "python",
   "name": "python3"
  },
  "language_info": {
   "codemirror_mode": {
    "name": "ipython",
    "version": 3
   },
   "file_extension": ".py",
   "mimetype": "text/x-python",
   "name": "python",
   "nbconvert_exporter": "python",
   "pygments_lexer": "ipython3",
   "version": "3.10.11"
  },
  "orig_nbformat": 4,
  "vscode": {
   "interpreter": {
    "hash": "629156728ce680fd9db38cb3a5c62ea383777f77ec1eb0420e4af00b9a9e4e76"
   }
  }
 },
 "nbformat": 4,
 "nbformat_minor": 2
}

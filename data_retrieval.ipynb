{
 "cells": [
  {
   "cell_type": "code",
   "execution_count": 7,
   "metadata": {},
   "outputs": [],
   "source": [
    "import pandas as pd\n",
    "import urllib.request\n",
    "import gzip\n",
    "import shutil\n",
    "from itertools import accumulate\n",
    "import zipfile\n",
    "import geopandas as gpd\n",
    "import os, urllib, json, csv\n",
    "import numpy as np\n",
    "\n",
    "\n",
    "def download_files(url, raw_path):\n",
    "    zip_path, _ = urllib.request.urlretrieve(url)\n",
    "    with zipfile.ZipFile(zip_path, \"r\") as f:\n",
    "        f.extractall(raw_path)\n",
    "\n",
    "def get_lodes_file(raw_path, lodes_type, file_name):\n",
    "    lodes_file = raw_path + file_name\n",
    "    if not os.path.isfile(lodes_file):\n",
    "        print(\"Downloading LODES data into \" + lodes_file)\n",
    "        url = f\"https://lehd.ces.census.gov/data/lodes/LODES7/md/{lodes_type}/{file_name}.gz\"\n",
    "        urllib.request.urlretrieve(url, raw_path + \"tmp.gz\")\n",
    "        with gzip.open(raw_path + \"tmp.gz\", \"rb\") as f_in:\n",
    "            with open(lodes_file, \"wb\") as f_out:\n",
    "                shutil.copyfileobj(f_in, f_out)\n",
    "        os.remove(raw_path + \"tmp.gz\")\n",
    "    lodes_data = pd.read_csv(lodes_file)\n",
    "    return lodes_data\n",
    "\n",
    "def set_paths(prefix = \"../\"):\n",
    "    processed_relpath = f\"{prefix}processed_data/\"\n",
    "    raw_relpath = f\"{prefix}raw_data/\"\n",
    "\n",
    "    processed_path = os.path.join(processed_relpath)\n",
    "    raw_path = os.path.join(raw_relpath)\n",
    "    return raw_path, processed_path\n",
    "\n",
    "def replace_tracts(df):\n",
    "    return df.replace([\"24510180100\", \"24510180200\"], \"24510280600\")\n",
    "\n",
    "def restrict_to_Baltimore(df, col):\n",
    "    tracts = pd.read_csv(\"../raw_data/Baltimore_tracts.csv\")['tracts'].astype(str).tolist()\n",
    "    return df[df[col].isin(tracts)]\n",
    "\n",
    "def extract_tract_FIPS(df, col):\n",
    "    return df[col].apply(lambda x: str(x)[-11:])\n",
    "\n",
    "def FIPS_to_str(df, col):\n",
    "    return df[col].apply(lambda x: str(x)[:11])\n",
    "\n",
    "\n",
    "def cumulativeSum(lst):\n",
    "    return list(accumulate(lst))"
   ]
  },
  {
   "cell_type": "code",
   "execution_count": 13,
   "metadata": {},
   "outputs": [
    {
     "ename": "NameError",
     "evalue": "name 'df' is not defined",
     "output_type": "error",
     "traceback": [
      "\u001b[0;31m---------------------------------------------------------------------------\u001b[0m",
      "\u001b[0;31mNameError\u001b[0m                                 Traceback (most recent call last)",
      "Cell \u001b[0;32mIn[13], line 29\u001b[0m\n\u001b[1;32m     19\u001b[0m         df\u001b[38;5;241m.\u001b[39mrename(\n\u001b[1;32m     20\u001b[0m             columns\u001b[38;5;241m=\u001b[39m{\n\u001b[1;32m     21\u001b[0m                 \u001b[38;5;124m\"\u001b[39m\u001b[38;5;124mINTPTLAT_x\u001b[39m\u001b[38;5;124m\"\u001b[39m: \u001b[38;5;124m\"\u001b[39m\u001b[38;5;124mstart_lat\u001b[39m\u001b[38;5;124m\"\u001b[39m,\n\u001b[0;32m   (...)\u001b[0m\n\u001b[1;32m     26\u001b[0m             inplace\u001b[38;5;241m=\u001b[39m\u001b[38;5;28;01mTrue\u001b[39;00m,\n\u001b[1;32m     27\u001b[0m         )\n\u001b[1;32m     28\u001b[0m         df \u001b[38;5;241m=\u001b[39m df[[\u001b[38;5;124m'\u001b[39m\u001b[38;5;124mh_geocode\u001b[39m\u001b[38;5;124m'\u001b[39m, \u001b[38;5;124m'\u001b[39m\u001b[38;5;124mw_geocode\u001b[39m\u001b[38;5;124m'\u001b[39m, \u001b[38;5;124m'\u001b[39m\u001b[38;5;124mjob_totals\u001b[39m\u001b[38;5;124m'\u001b[39m, \u001b[38;5;124m'\u001b[39m\u001b[38;5;124mstart_lat\u001b[39m\u001b[38;5;124m'\u001b[39m, \u001b[38;5;124m'\u001b[39m\u001b[38;5;124mstart_lon\u001b[39m\u001b[38;5;124m'\u001b[39m, \u001b[38;5;124m'\u001b[39m\u001b[38;5;124mend_lat\u001b[39m\u001b[38;5;124m'\u001b[39m, \u001b[38;5;124m'\u001b[39m\u001b[38;5;124mend_lon\u001b[39m\u001b[38;5;124m'\u001b[39m]]\n\u001b[0;32m---> 29\u001b[0m \u001b[38;5;28mprint\u001b[39m(\u001b[43mdf\u001b[49m)\n",
      "\u001b[0;31mNameError\u001b[0m: name 'df' is not defined"
     ]
    }
   ],
   "source": [
    "raw_path, processed_path = set_paths()\n",
    "\n",
    "def get_all_pair_transit_time(output_file, job_flow, tract_file = \"2020_Gaz_tracts_24.txt\", date = '11/01/2022', time = '08:00AM'):\n",
    "    output_path = processed_path + output_file\n",
    "    if not os.path.isfile(output_path):\n",
    "        year = tract_file[:4]\n",
    "        if not os.path.isfile(raw_path + tract_file):\n",
    "            url = f'https://www2.census.gov/geo/docs/maps-data/data/gazetteer/{year}_Gazetteer/{tract_file}'\n",
    "            urllib.request.urlretrieve(url, raw_path + tract_file)\n",
    "        with open(raw_path + tract_file) as f:\n",
    "            tracts = pd.read_csv(f, delimiter='\\s+')\n",
    "        f.close()\n",
    "\n",
    "        tracts = tracts[['GEOID', 'INTPTLAT', 'INTPTLONG']]\n",
    "        # This is specific to Maryland tracts\n",
    "        tracts.loc[1456,['INTPTLAT', 'INTPTLONG']] = [39.34673721019194, -76.68057889700162]\n",
    "\n",
    "        df = job_flow.merge(tracts, left_on=\"h_geocode\", right_on=\"GEOID\").merge(tracts, left_on=\"w_geocode\", right_on=\"GEOID\")\n",
    "        df.rename(\n",
    "            columns={\n",
    "                \"INTPTLAT_x\": \"start_lat\",\n",
    "                \"INTPTLONG_x\": \"start_lon\",\n",
    "                \"INTPTLAT_y\": \"end_lat\",\n",
    "                \"INTPTLONG_y\": \"end_lon\",\n",
    "            },\n",
    "            inplace=True,\n",
    "        )\n",
    "        df = df[['h_geocode', 'w_geocode', 'job_totals', 'start_lat', 'start_lon', 'end_lat', 'end_lon']]\n"
   ]
  }
 ],
 "metadata": {
  "kernelspec": {
   "display_name": "Python 3.10.11 ('myenv')",
   "language": "python",
   "name": "python3"
  },
  "language_info": {
   "codemirror_mode": {
    "name": "ipython",
    "version": 3
   },
   "file_extension": ".py",
   "mimetype": "text/x-python",
   "name": "python",
   "nbconvert_exporter": "python",
   "pygments_lexer": "ipython3",
   "version": "3.10.11"
  },
  "orig_nbformat": 4,
  "vscode": {
   "interpreter": {
    "hash": "629156728ce680fd9db38cb3a5c62ea383777f77ec1eb0420e4af00b9a9e4e76"
   }
  }
 },
 "nbformat": 4,
 "nbformat_minor": 2
}
